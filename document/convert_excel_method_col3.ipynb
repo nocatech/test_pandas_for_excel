{
 "cells": [
  {
   "cell_type": "markdown",
   "metadata": {},
   "source": [
    "# multi_columnsの動作確認(3行ヘッダー版)"
   ]
  },
  {
   "cell_type": "code",
   "execution_count": 1,
   "metadata": {},
   "outputs": [],
   "source": [
    "from IPython.display import display\n",
    "import pandas as pd\n",
    "import sys\n",
    "from os.path import abspath, split, join, dirname, realpath\n",
    "from inspect import getfile, currentframe\n",
    "pjc_folder = realpath(dirname(abspath(split(getfile( currentframe() ))[0])))\n",
    "\n",
    "if pjc_folder not in sys.path:\n",
    "    sys.path.insert(0, pjc_folder)\n",
    "pass"
   ]
  },
  {
   "cell_type": "code",
   "execution_count": 2,
   "metadata": {},
   "outputs": [],
   "source": [
    "# 実行上必要なものではないです(GitHubにあげる上で、ファイルパスなどを消すためにワーニングを非表示)\n",
    "import warnings\n",
    "warnings.filterwarnings('ignore')"
   ]
  },
  {
   "cell_type": "code",
   "execution_count": 3,
   "metadata": {},
   "outputs": [],
   "source": [
    "xl_file = 'test_col3.xlsx'\n",
    "xi_path = join(pjc_folder, 'file' , xl_file)"
   ]
  },
  {
   "cell_type": "code",
   "execution_count": 4,
   "metadata": {
    "scrolled": true
   },
   "outputs": [
    {
     "data": {
      "text/html": [
       "<div>\n",
       "<style scoped>\n",
       "    .dataframe tbody tr th:only-of-type {\n",
       "        vertical-align: middle;\n",
       "    }\n",
       "\n",
       "    .dataframe tbody tr th {\n",
       "        vertical-align: top;\n",
       "    }\n",
       "\n",
       "    .dataframe thead tr th {\n",
       "        text-align: left;\n",
       "    }\n",
       "</style>\n",
       "<table border=\"1\" class=\"dataframe\">\n",
       "  <thead>\n",
       "    <tr>\n",
       "      <th>測定</th>\n",
       "      <th colspan=\"3\" halign=\"left\">測定</th>\n",
       "      <th colspan=\"2\" halign=\"left\">プログラム</th>\n",
       "      <th>備考</th>\n",
       "    </tr>\n",
       "    <tr>\n",
       "      <th>No</th>\n",
       "      <th colspan=\"3\" halign=\"left\">その他</th>\n",
       "      <th>Unnamed: 3_level_1</th>\n",
       "      <th>Unnamed: 4_level_1</th>\n",
       "      <th>Unnamed: 5_level_1</th>\n",
       "    </tr>\n",
       "    <tr>\n",
       "      <th></th>\n",
       "      <th>体重</th>\n",
       "      <th>体脂肪率</th>\n",
       "      <th>BMI</th>\n",
       "      <th>C#</th>\n",
       "      <th>ｐｙてょｎ</th>\n",
       "      <th>Unnamed: 5_level_2</th>\n",
       "    </tr>\n",
       "  </thead>\n",
       "  <tbody>\n",
       "    <tr>\n",
       "      <th>1002</th>\n",
       "      <td>65.5</td>\n",
       "      <td>19.5</td>\n",
       "      <td>20.216049</td>\n",
       "      <td>1.0</td>\n",
       "      <td>2.0</td>\n",
       "      <td>NaN</td>\n",
       "    </tr>\n",
       "    <tr>\n",
       "      <th>1003</th>\n",
       "      <td>66.0</td>\n",
       "      <td>18.1</td>\n",
       "      <td>20.370370</td>\n",
       "      <td>NaN</td>\n",
       "      <td>NaN</td>\n",
       "      <td>飲み過ぎ</td>\n",
       "    </tr>\n",
       "    <tr>\n",
       "      <th>1004</th>\n",
       "      <td>65.7</td>\n",
       "      <td>19.1</td>\n",
       "      <td>20.277778</td>\n",
       "      <td>NaN</td>\n",
       "      <td>0.5</td>\n",
       "      <td>NaN</td>\n",
       "    </tr>\n",
       "    <tr>\n",
       "      <th>1005</th>\n",
       "      <td>65.8</td>\n",
       "      <td>19.3</td>\n",
       "      <td>20.308642</td>\n",
       "      <td>NaN</td>\n",
       "      <td>7.0</td>\n",
       "      <td>NaN</td>\n",
       "    </tr>\n",
       "    <tr>\n",
       "      <th>1006</th>\n",
       "      <td>65.3</td>\n",
       "      <td>20.1</td>\n",
       "      <td>20.154321</td>\n",
       "      <td>1.0</td>\n",
       "      <td>6.0</td>\n",
       "      <td>NaN</td>\n",
       "    </tr>\n",
       "  </tbody>\n",
       "</table>\n",
       "</div>"
      ],
      "text/plain": [
       "測定      測定                               プログラム                     \\\n",
       "No     その他                  Unnamed: 3_level_1 Unnamed: 4_level_1   \n",
       "        体重  体脂肪率        BMI                 C#              ｐｙてょｎ   \n",
       "1002  65.5  19.5  20.216049                1.0                2.0   \n",
       "1003  66.0  18.1  20.370370                NaN                NaN   \n",
       "1004  65.7  19.1  20.277778                NaN                0.5   \n",
       "1005  65.8  19.3  20.308642                NaN                7.0   \n",
       "1006  65.3  20.1  20.154321                1.0                6.0   \n",
       "\n",
       "測定                   備考  \n",
       "No   Unnamed: 5_level_1  \n",
       "     Unnamed: 5_level_2  \n",
       "1002                NaN  \n",
       "1003               飲み過ぎ  \n",
       "1004                NaN  \n",
       "1005                NaN  \n",
       "1006                NaN  "
      ]
     },
     "metadata": {},
     "output_type": "display_data"
    }
   ],
   "source": [
    "#まずは普通にpandasのread_excelを使って読む\n",
    "df = pd.read_excel(xi_path, skiprows=2, header=[0,1,2])\n",
    "display(df)"
   ]
  },
  {
   "cell_type": "code",
   "execution_count": 5,
   "metadata": {
    "scrolled": true
   },
   "outputs": [
    {
     "data": {
      "text/html": [
       "<div>\n",
       "<style scoped>\n",
       "    .dataframe tbody tr th:only-of-type {\n",
       "        vertical-align: middle;\n",
       "    }\n",
       "\n",
       "    .dataframe tbody tr th {\n",
       "        vertical-align: top;\n",
       "    }\n",
       "\n",
       "    .dataframe thead tr th {\n",
       "        text-align: left;\n",
       "    }\n",
       "</style>\n",
       "<table border=\"1\" class=\"dataframe\">\n",
       "  <thead>\n",
       "    <tr>\n",
       "      <th></th>\n",
       "      <th colspan=\"4\" halign=\"left\">測定</th>\n",
       "      <th colspan=\"2\" halign=\"left\">プログラム</th>\n",
       "      <th>備考</th>\n",
       "    </tr>\n",
       "    <tr>\n",
       "      <th></th>\n",
       "      <th>No</th>\n",
       "      <th colspan=\"3\" halign=\"left\">その他</th>\n",
       "      <th>C#</th>\n",
       "      <th>ｐｙてょｎ</th>\n",
       "      <th></th>\n",
       "    </tr>\n",
       "    <tr>\n",
       "      <th></th>\n",
       "      <th></th>\n",
       "      <th>体重</th>\n",
       "      <th>体脂肪率</th>\n",
       "      <th>BMI</th>\n",
       "      <th></th>\n",
       "      <th></th>\n",
       "      <th></th>\n",
       "    </tr>\n",
       "  </thead>\n",
       "  <tbody>\n",
       "    <tr>\n",
       "      <th>0</th>\n",
       "      <td>1002</td>\n",
       "      <td>65.5</td>\n",
       "      <td>19.5</td>\n",
       "      <td>20.216049</td>\n",
       "      <td>1.0</td>\n",
       "      <td>2.0</td>\n",
       "      <td>NaN</td>\n",
       "    </tr>\n",
       "    <tr>\n",
       "      <th>1</th>\n",
       "      <td>1003</td>\n",
       "      <td>66.0</td>\n",
       "      <td>18.1</td>\n",
       "      <td>20.370370</td>\n",
       "      <td>NaN</td>\n",
       "      <td>NaN</td>\n",
       "      <td>飲み過ぎ</td>\n",
       "    </tr>\n",
       "    <tr>\n",
       "      <th>2</th>\n",
       "      <td>1004</td>\n",
       "      <td>65.7</td>\n",
       "      <td>19.1</td>\n",
       "      <td>20.277778</td>\n",
       "      <td>NaN</td>\n",
       "      <td>0.5</td>\n",
       "      <td>NaN</td>\n",
       "    </tr>\n",
       "    <tr>\n",
       "      <th>3</th>\n",
       "      <td>1005</td>\n",
       "      <td>65.8</td>\n",
       "      <td>19.3</td>\n",
       "      <td>20.308642</td>\n",
       "      <td>NaN</td>\n",
       "      <td>7.0</td>\n",
       "      <td>NaN</td>\n",
       "    </tr>\n",
       "    <tr>\n",
       "      <th>4</th>\n",
       "      <td>1006</td>\n",
       "      <td>65.3</td>\n",
       "      <td>20.1</td>\n",
       "      <td>20.154321</td>\n",
       "      <td>1.0</td>\n",
       "      <td>6.0</td>\n",
       "      <td>NaN</td>\n",
       "    </tr>\n",
       "  </tbody>\n",
       "</table>\n",
       "</div>"
      ],
      "text/plain": [
       "     測定                        プログラム          備考\n",
       "     No   その他                     C# ｐｙてょｎ      \n",
       "           体重  体脂肪率        BMI                  \n",
       "0  1002  65.5  19.5  20.216049   1.0   2.0   NaN\n",
       "1  1003  66.0  18.1  20.370370   NaN   NaN  飲み過ぎ\n",
       "2  1004  65.7  19.1  20.277778   NaN   0.5   NaN\n",
       "3  1005  65.8  19.3  20.308642   NaN   7.0   NaN\n",
       "4  1006  65.3  20.1  20.154321   1.0   6.0   NaN"
      ]
     },
     "metadata": {},
     "output_type": "display_data"
    }
   ],
   "source": [
    "# 次に作成したプログラムを読み込んで、multi_columns関数に食わせて整形\n",
    "from convert_excel import multi_columns\n",
    "df = multi_columns(df)\n",
    "display(df)"
   ]
  },
  {
   "cell_type": "code",
   "execution_count": 6,
   "metadata": {},
   "outputs": [
    {
     "data": {
      "text/plain": [
       "FrozenList([None, None, None])"
      ]
     },
     "execution_count": 6,
     "metadata": {},
     "output_type": "execute_result"
    }
   ],
   "source": [
    "df.columns.names"
   ]
  },
  {
   "cell_type": "code",
   "execution_count": 7,
   "metadata": {
    "scrolled": true
   },
   "outputs": [
    {
     "data": {
      "text/plain": [
       "[('測定', 'No', ''),\n",
       " ('測定', 'その他', '体重'),\n",
       " ('測定', 'その他', '体脂肪率'),\n",
       " ('測定', 'その他', 'BMI'),\n",
       " ('プログラム', 'C#', ''),\n",
       " ('プログラム', 'ｐｙてょｎ', ''),\n",
       " ('備考', '', '')]"
      ]
     },
     "execution_count": 7,
     "metadata": {},
     "output_type": "execute_result"
    }
   ],
   "source": [
    "list(df.columns)"
   ]
  },
  {
   "cell_type": "markdown",
   "metadata": {},
   "source": [
    "### ここから色々操作してみる"
   ]
  },
  {
   "cell_type": "code",
   "execution_count": 8,
   "metadata": {},
   "outputs": [
    {
     "data": {
      "text/plain": [
       "0     NaN\n",
       "1    飲み過ぎ\n",
       "2     NaN\n",
       "3     NaN\n",
       "4     NaN\n",
       "Name: 備考, dtype: object"
      ]
     },
     "execution_count": 8,
     "metadata": {},
     "output_type": "execute_result"
    }
   ],
   "source": [
    "# まずは子の項目のないものから\n",
    "df[\"備考\"]"
   ]
  },
  {
   "cell_type": "code",
   "execution_count": 9,
   "metadata": {},
   "outputs": [
    {
     "data": {
      "text/plain": [
       "0    1002\n",
       "1    1003\n",
       "2    1004\n",
       "3    1005\n",
       "4    1006\n",
       "Name: (測定, No), dtype: int64"
      ]
     },
     "execution_count": 9,
     "metadata": {},
     "output_type": "execute_result"
    }
   ],
   "source": [
    "# Noは作られた直後はindexではない。普通の列項目だが、測定項目の子項目なので測定の指定が必要\n",
    "df[\"測定\", \"No\"]"
   ]
  },
  {
   "cell_type": "code",
   "execution_count": 10,
   "metadata": {},
   "outputs": [
    {
     "data": {
      "text/plain": [
       "0    20.216049\n",
       "1    20.370370\n",
       "2    20.277778\n",
       "3    20.308642\n",
       "4    20.154321\n",
       "Name: (測定, その他, BMI), dtype: float64"
      ]
     },
     "execution_count": 10,
     "metadata": {},
     "output_type": "execute_result"
    }
   ],
   "source": [
    "# 階層の深いもの(複数キーがないと断定できないもの)\n",
    "df[\"測定\", \"その他\", \"BMI\"]"
   ]
  },
  {
   "cell_type": "code",
   "execution_count": 11,
   "metadata": {},
   "outputs": [
    {
     "data": {
      "text/html": [
       "<div>\n",
       "<style scoped>\n",
       "    .dataframe tbody tr th:only-of-type {\n",
       "        vertical-align: middle;\n",
       "    }\n",
       "\n",
       "    .dataframe tbody tr th {\n",
       "        vertical-align: top;\n",
       "    }\n",
       "\n",
       "    .dataframe thead th {\n",
       "        text-align: right;\n",
       "    }\n",
       "</style>\n",
       "<table border=\"1\" class=\"dataframe\">\n",
       "  <thead>\n",
       "    <tr style=\"text-align: right;\">\n",
       "      <th></th>\n",
       "      <th>体重</th>\n",
       "      <th>体脂肪率</th>\n",
       "      <th>BMI</th>\n",
       "    </tr>\n",
       "  </thead>\n",
       "  <tbody>\n",
       "    <tr>\n",
       "      <th>0</th>\n",
       "      <td>65.5</td>\n",
       "      <td>19.5</td>\n",
       "      <td>20.216049</td>\n",
       "    </tr>\n",
       "    <tr>\n",
       "      <th>1</th>\n",
       "      <td>66.0</td>\n",
       "      <td>18.1</td>\n",
       "      <td>20.370370</td>\n",
       "    </tr>\n",
       "    <tr>\n",
       "      <th>2</th>\n",
       "      <td>65.7</td>\n",
       "      <td>19.1</td>\n",
       "      <td>20.277778</td>\n",
       "    </tr>\n",
       "    <tr>\n",
       "      <th>3</th>\n",
       "      <td>65.8</td>\n",
       "      <td>19.3</td>\n",
       "      <td>20.308642</td>\n",
       "    </tr>\n",
       "    <tr>\n",
       "      <th>4</th>\n",
       "      <td>65.3</td>\n",
       "      <td>20.1</td>\n",
       "      <td>20.154321</td>\n",
       "    </tr>\n",
       "  </tbody>\n",
       "</table>\n",
       "</div>"
      ],
      "text/plain": [
       "     体重  体脂肪率        BMI\n",
       "0  65.5  19.5  20.216049\n",
       "1  66.0  18.1  20.370370\n",
       "2  65.7  19.1  20.277778\n",
       "3  65.8  19.3  20.308642\n",
       "4  65.3  20.1  20.154321"
      ]
     },
     "execution_count": 11,
     "metadata": {},
     "output_type": "execute_result"
    }
   ],
   "source": [
    "# 状態だけを選ぶと子の要素二つが選ばれる。パフォーマンスの警告が出るが実施可能。\n",
    "df[\"測定\", \"その他\"]"
   ]
  },
  {
   "cell_type": "code",
   "execution_count": 12,
   "metadata": {},
   "outputs": [
    {
     "data": {
      "text/plain": [
       "0    1.0\n",
       "1    NaN\n",
       "2    NaN\n",
       "3    NaN\n",
       "4    1.0\n",
       "Name: (プログラム, C#), dtype: float64"
      ]
     },
     "execution_count": 12,
     "metadata": {},
     "output_type": "execute_result"
    }
   ],
   "source": [
    "# 階層が2つの項目にもアクセスできる\n",
    "df[\"プログラム\", \"C#\"]"
   ]
  },
  {
   "cell_type": "code",
   "execution_count": 13,
   "metadata": {},
   "outputs": [
    {
     "data": {
      "text/html": [
       "<div>\n",
       "<style scoped>\n",
       "    .dataframe tbody tr th:only-of-type {\n",
       "        vertical-align: middle;\n",
       "    }\n",
       "\n",
       "    .dataframe tbody tr th {\n",
       "        vertical-align: top;\n",
       "    }\n",
       "\n",
       "    .dataframe thead tr th {\n",
       "        text-align: left;\n",
       "    }\n",
       "\n",
       "    .dataframe thead tr:last-of-type th {\n",
       "        text-align: right;\n",
       "    }\n",
       "</style>\n",
       "<table border=\"1\" class=\"dataframe\">\n",
       "  <thead>\n",
       "    <tr>\n",
       "      <th></th>\n",
       "      <th colspan=\"3\" halign=\"left\">測定</th>\n",
       "      <th colspan=\"2\" halign=\"left\">プログラム</th>\n",
       "      <th>備考</th>\n",
       "    </tr>\n",
       "    <tr>\n",
       "      <th></th>\n",
       "      <th colspan=\"3\" halign=\"left\">その他</th>\n",
       "      <th>C#</th>\n",
       "      <th>ｐｙてょｎ</th>\n",
       "      <th></th>\n",
       "    </tr>\n",
       "    <tr>\n",
       "      <th></th>\n",
       "      <th>体重</th>\n",
       "      <th>体脂肪率</th>\n",
       "      <th>BMI</th>\n",
       "      <th></th>\n",
       "      <th></th>\n",
       "      <th></th>\n",
       "    </tr>\n",
       "    <tr>\n",
       "      <th>No</th>\n",
       "      <th></th>\n",
       "      <th></th>\n",
       "      <th></th>\n",
       "      <th></th>\n",
       "      <th></th>\n",
       "      <th></th>\n",
       "    </tr>\n",
       "  </thead>\n",
       "  <tbody>\n",
       "    <tr>\n",
       "      <th>1002</th>\n",
       "      <td>65.5</td>\n",
       "      <td>19.5</td>\n",
       "      <td>20.216049</td>\n",
       "      <td>1.0</td>\n",
       "      <td>2.0</td>\n",
       "      <td>NaN</td>\n",
       "    </tr>\n",
       "    <tr>\n",
       "      <th>1003</th>\n",
       "      <td>66.0</td>\n",
       "      <td>18.1</td>\n",
       "      <td>20.370370</td>\n",
       "      <td>NaN</td>\n",
       "      <td>NaN</td>\n",
       "      <td>飲み過ぎ</td>\n",
       "    </tr>\n",
       "    <tr>\n",
       "      <th>1004</th>\n",
       "      <td>65.7</td>\n",
       "      <td>19.1</td>\n",
       "      <td>20.277778</td>\n",
       "      <td>NaN</td>\n",
       "      <td>0.5</td>\n",
       "      <td>NaN</td>\n",
       "    </tr>\n",
       "    <tr>\n",
       "      <th>1005</th>\n",
       "      <td>65.8</td>\n",
       "      <td>19.3</td>\n",
       "      <td>20.308642</td>\n",
       "      <td>NaN</td>\n",
       "      <td>7.0</td>\n",
       "      <td>NaN</td>\n",
       "    </tr>\n",
       "    <tr>\n",
       "      <th>1006</th>\n",
       "      <td>65.3</td>\n",
       "      <td>20.1</td>\n",
       "      <td>20.154321</td>\n",
       "      <td>1.0</td>\n",
       "      <td>6.0</td>\n",
       "      <td>NaN</td>\n",
       "    </tr>\n",
       "  </tbody>\n",
       "</table>\n",
       "</div>"
      ],
      "text/plain": [
       "        測定                  プログラム          備考\n",
       "       その他                     C# ｐｙてょｎ      \n",
       "        体重  体脂肪率        BMI                  \n",
       "No                                           \n",
       "1002  65.5  19.5  20.216049   1.0   2.0   NaN\n",
       "1003  66.0  18.1  20.370370   NaN   NaN  飲み過ぎ\n",
       "1004  65.7  19.1  20.277778   NaN   0.5   NaN\n",
       "1005  65.8  19.3  20.308642   NaN   7.0   NaN\n",
       "1006  65.3  20.1  20.154321   1.0   6.0   NaN"
      ]
     },
     "metadata": {},
     "output_type": "display_data"
    }
   ],
   "source": [
    "# No列をインデックスにする場合はチョット注意が必要。特にインデックス後に削除する場合はタプルで指定する。\n",
    "df.index = df[\"測定\", \"No\"]\n",
    "df.index.name = \"No\"\n",
    "df = df.drop(columns=(\"測定\", \"No\"))\n",
    "display(df)"
   ]
  },
  {
   "cell_type": "code",
   "execution_count": 14,
   "metadata": {},
   "outputs": [
    {
     "data": {
      "text/plain": [
       "No\n",
       "1002     NaN\n",
       "1003    飲み過ぎ\n",
       "1004     NaN\n",
       "1005     NaN\n",
       "1006     NaN\n",
       "Name: 備考, dtype: object"
      ]
     },
     "execution_count": 14,
     "metadata": {},
     "output_type": "execute_result"
    }
   ],
   "source": [
    "# 列を選択すると、Noがキーとして出力されている\n",
    "df[\"備考\"]"
   ]
  },
  {
   "cell_type": "code",
   "execution_count": null,
   "metadata": {},
   "outputs": [],
   "source": []
  }
 ],
 "metadata": {
  "kernelspec": {
   "display_name": "Python 3",
   "language": "python",
   "name": "python3"
  },
  "language_info": {
   "codemirror_mode": {
    "name": "ipython",
    "version": 3
   },
   "file_extension": ".py",
   "mimetype": "text/x-python",
   "name": "python",
   "nbconvert_exporter": "python",
   "pygments_lexer": "ipython3",
   "version": "3.7.0"
  }
 },
 "nbformat": 4,
 "nbformat_minor": 1
}
